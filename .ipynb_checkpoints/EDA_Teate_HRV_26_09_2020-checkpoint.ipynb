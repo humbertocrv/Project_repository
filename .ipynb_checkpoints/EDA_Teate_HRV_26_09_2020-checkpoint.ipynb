{
 "cells": [
  {
   "cell_type": "code",
   "execution_count": 6,
   "metadata": {},
   "outputs": [],
   "source": [
    "import pandas as pd\n",
    "import numpy as np\n",
    "import matplotlib.pyplot as plt\n",
    "import seaborn as sns\n",
    "import plotly.express as px\n",
    "import warnings\n",
    "\n",
    "from scipy.stats import chi2\n",
    "from scipy.stats import chi2_contingency\n",
    "from datetime import datetime\n",
    "\n",
    "# Archivos biblioteca Team 45\n",
    "\n",
    "from classes_and_abc import *    # Función que recibe los datos de pedidos y la tabla de categorias y devuelve el df fusionado\n",
    "from crear_columna_lealtad_tienda import *  # Función para agregar columna lealtad del vendedor y antiguedad recibe del DF\n",
    "from colfechas_antiguedad import * # Funcion para convertir a fechas los campos de fecha y agregar antiguedad y clasificar las antiguedades por segmentos\n",
    "\n",
    "\n",
    "\n",
    "warnings.filterwarnings(\"ignore\")  # Suppress all warnings"
   ]
  },
  {
   "cell_type": "code",
   "execution_count": 7,
   "metadata": {},
   "outputs": [],
   "source": [
    "df_orig = pd.read_csv('data/teate final v2.csv')\n",
    "df_cat_orig = pd.read_excel('data/Teate Categorias.xlsx')"
   ]
  },
  {
   "cell_type": "code",
   "execution_count": 18,
   "metadata": {},
   "outputs": [],
   "source": [
    "df = df_orig.copy()\n",
    "df_cat = df_cat_orig.copy()"
   ]
  },
  {
   "cell_type": "code",
   "execution_count": 19,
   "metadata": {},
   "outputs": [],
   "source": [
    "df['Lealtad'] = crear_col_lealtad_tienda(df) \n",
    "\n",
    "# creo columna lealtad: \n",
    "# Lealtad baja: menos de 2 ordenes mensual \n",
    "# Lealtad media entre 2 y 4 ordenes promedio mensual\n",
    "# Lealtad alta: Maas de 4 ordenes promedio mensual"
   ]
  },
  {
   "cell_type": "code",
   "execution_count": 20,
   "metadata": {},
   "outputs": [],
   "source": [
    "df = classes_abc(df, df_cat)\n",
    "\n",
    "#Creo columnas asociadad a la categoria: 'NOMBRE SUB', 'NOMBRE CAT','Categoria Logistica', 'Rent Rotacion'"
   ]
  },
  {
   "cell_type": "code",
   "execution_count": 21,
   "metadata": {},
   "outputs": [],
   "source": [
    "df = colfechas_antiguedad(df) \n",
    "\n",
    "# Convierto a formatode fecha\n",
    "# Calculo la antiguedad de una tienda en dias 'Antiguedad Tienda' \n",
    "# Calculo el segmento 1: menor a un año, 2: entre 1 y 2 años y 3: Mayor a 3 años de antiguedad 'Segmento Antiguedad'"
   ]
  },
  {
   "cell_type": "code",
   "execution_count": 22,
   "metadata": {},
   "outputs": [
    {
     "data": {
      "image/png": "[encoded data removed]",
      "text/plain": [
       "<Figure size 432x288 with 1 Axes>"
      ]
     },
     "metadata": {
      "needs_background": "light"
     },
     "output_type": "display_data"
    }
   ],
   "source": [
    "plt.hist(df['HoraMovil'], bins=24);"
   ]
  },
  {
   "cell_type": "code",
   "execution_count": 23,
   "metadata": {},
   "outputs": [
    {
     "data": {
      "image/png": "[encoded data removed]",
      "text/plain": [
       "<Figure size 432x288 with 1 Axes>"
      ]
     },
     "metadata": {
      "needs_background": "light"
     },
     "output_type": "display_data"
    }
   ],
   "source": [
    "df_temp=df[['Antiguedad Tienda','Nombre Tienda']].groupby('Nombre Tienda', as_index=False).agg({'Antiguedad Tienda':'max'})\n",
    "plt.hist(df_temp['Antiguedad Tienda']);"
   ]
  },
  {
   "cell_type": "code",
   "execution_count": 25,
   "metadata": {},
   "outputs": [
    {
     "data": {
      "text/html": [
       "<div>\n",
       "<style scoped>\n",
       "    .dataframe tbody tr th:only-of-type {\n",
       "        vertical-align: middle;\n",
       "    }\n",
       "\n",
       "    .dataframe tbody tr th {\n",
       "        vertical-align: top;\n",
       "    }\n",
       "\n",
       "    .dataframe thead th {\n",
       "        text-align: right;\n",
       "    }\n",
       "</style>\n",
       "<table border=\"1\" class=\"dataframe\">\n",
       "  <thead>\n",
       "    <tr style=\"text-align: right;\">\n",
       "      <th></th>\n",
       "      <th>Segmento Antiguedad</th>\n",
       "      <th>Tienda</th>\n",
       "      <th>Porcentaje</th>\n",
       "    </tr>\n",
       "  </thead>\n",
       "  <tbody>\n",
       "    <tr>\n",
       "      <th>1</th>\n",
       "      <td>2</td>\n",
       "      <td>350431</td>\n",
       "      <td>0.519479</td>\n",
       "    </tr>\n",
       "    <tr>\n",
       "      <th>0</th>\n",
       "      <td>1</td>\n",
       "      <td>228959</td>\n",
       "      <td>0.339409</td>\n",
       "    </tr>\n",
       "    <tr>\n",
       "      <th>2</th>\n",
       "      <td>3</td>\n",
       "      <td>95191</td>\n",
       "      <td>0.141111</td>\n",
       "    </tr>\n",
       "  </tbody>\n",
       "</table>\n",
       "</div>"
      ],
      "text/plain": [
       "   Segmento Antiguedad  Tienda  Porcentaje\n",
       "1                    2  350431    0.519479\n",
       "0                    1  228959    0.339409\n",
       "2                    3   95191    0.141111"
      ]
     },
     "execution_count": 25,
     "metadata": {},
     "output_type": "execute_result"
    }
   ],
   "source": [
    "df_temp = df[['Segmento Antiguedad', 'Tienda']].groupby(['Segmento Antiguedad'], as_index=False).count()\n",
    "df_temp['Porcentaje']= df_temp['Tienda']/sum(df_temp['Tienda'])\n",
    "df_temp.sort_values(by='Tienda', ascending=False)"
   ]
  },
  {
   "cell_type": "code",
   "execution_count": 26,
   "metadata": {},
   "outputs": [
    {
     "data": {
      "text/html": [
       "<div>\n",
       "<style scoped>\n",
       "    .dataframe tbody tr th:only-of-type {\n",
       "        vertical-align: middle;\n",
       "    }\n",
       "\n",
       "    .dataframe tbody tr th {\n",
       "        vertical-align: top;\n",
       "    }\n",
       "\n",
       "    .dataframe thead th {\n",
       "        text-align: right;\n",
       "    }\n",
       "</style>\n",
       "<table border=\"1\" class=\"dataframe\">\n",
       "  <thead>\n",
       "    <tr style=\"text-align: right;\">\n",
       "      <th></th>\n",
       "      <th>Lealtad</th>\n",
       "      <th>Tienda</th>\n",
       "      <th>Porcentaje</th>\n",
       "    </tr>\n",
       "  </thead>\n",
       "  <tbody>\n",
       "    <tr>\n",
       "      <th>1</th>\n",
       "      <td>Lealtad baja</td>\n",
       "      <td>5625</td>\n",
       "      <td>0.562781</td>\n",
       "    </tr>\n",
       "    <tr>\n",
       "      <th>2</th>\n",
       "      <td>Lealtad media</td>\n",
       "      <td>3330</td>\n",
       "      <td>0.333167</td>\n",
       "    </tr>\n",
       "    <tr>\n",
       "      <th>0</th>\n",
       "      <td>Lealtad alta</td>\n",
       "      <td>1040</td>\n",
       "      <td>0.104052</td>\n",
       "    </tr>\n",
       "  </tbody>\n",
       "</table>\n",
       "</div>"
      ],
      "text/plain": [
       "         Lealtad  Tienda  Porcentaje\n",
       "1   Lealtad baja    5625    0.562781\n",
       "2  Lealtad media    3330    0.333167\n",
       "0   Lealtad alta    1040    0.104052"
      ]
     },
     "execution_count": 26,
     "metadata": {},
     "output_type": "execute_result"
    }
   ],
   "source": [
    "df_temp = df[['Lealtad', 'Tienda']].groupby(['Lealtad'], as_index=False).count()\n",
    "df_temp['Porcentaje']= df_temp['Tienda']/sum(df_temp['Tienda'])\n",
    "df_temp.sort_values(by='Tienda', ascending=False)"
   ]
  },
  {
   "cell_type": "code",
   "execution_count": 27,
   "metadata": {},
   "outputs": [],
   "source": [
    "#Falta graficar esto que estába encapsulado en la funcion que se saco del main\n",
    "\n",
    "#fig=plt.figure(figsize=(10,10)); \n",
    "#pedidos_tiendadf3.hist(column=\"Num promedio de pedidos mensuales\", bins=60);\n"
   ]
  },
  {
   "cell_type": "code",
   "execution_count": 28,
   "metadata": {},
   "outputs": [],
   "source": [
    "Col_categorias = [\n",
    " \n",
    " 'Tienda', 'Nombre Tienda', 'Población', 'Dirección Tienda', \n",
    " 'Fecha Creación Tienda', 'Nombre ZonaComercial', 'Comuna', 'Barrio',\n",
    " 'Region', 'Pedido', 'Fecha Pedido', 'Fabricante', \n",
    " 'Nombre Fabricante', 'Material', 'Nombre Material', 'UM', \n",
    " 'Denominación Motivo Rechazo', 'Cupón Dscto', 'Nombre Ruta','MES', 'Segmento Antiguedad', 'Lealtad', \n",
    " 'NOMBRE SUB', 'NOMBRE CAT','Categoria Logistica', 'Rent Rotacion']\n",
    "\n",
    "# Se agregó una columna de segmento antiguedad se definió numerica para que fuese ordinal mas alto mas antiguo. 1,2,3\n",
    "# Categorias, Subcategorias, Cuadrante_rentabilidad_rotacion, Tipificacion_logistica, Lealtad.\n",
    "\n",
    "\n",
    "Col_numericas = [\n",
    "    \n",
    "    'Cantidad de pedido', 'Valor Unitario Pedido', 'Valor Total Pedido', \n",
    "    'Ctd.facturada', 'Valor Unitario Factura', 'Valor TotalFactura', 'Descuento Teaté', \n",
    "    'Valor Cupón Teaté','HoraMovil', 'Antiguedad Tienda']\n",
    "\n",
    "Col_numericas_analisis = [\n",
    "    \n",
    "    'Cantidad de pedido', 'Valor Unitario Pedido', 'Valor Total Pedido', 'Descuento Teaté', \n",
    "    'Valor Cupón Teaté','HoraMovil', 'Antiguedad Tienda']\n",
    "\n",
    "Col_categorias_analisis = [\n",
    " \n",
    "    'Población', 'Denominación Motivo Rechazo', 'Segmento Antiguedad', 'Lealtad', 'NOMBRE SUB', 'NOMBRE CAT','Categoria Logistica', 'Rent Rotacion'\n",
    "    'Barrio',\n",
    "    'Comuna', \n",
    "    'Nombre Fabricante',   \n",
    "    'Nombre ZonaComercial',  \n",
    "    'Region',\n",
    "    'Pedido', \n",
    "    'UM', \n",
    "    'Cupón Dscto', \n",
    "    'Nombre Ruta',\n",
    "    'MES'\n",
    "    ]\n"
   ]
  },
  {
   "cell_type": "code",
   "execution_count": 29,
   "metadata": {},
   "outputs": [
    {
     "data": {
      "text/plain": [
       "<matplotlib.axes._subplots.AxesSubplot at 0x20ca450ae88>"
      ]
     },
     "execution_count": 29,
     "metadata": {},
     "output_type": "execute_result"
    },
    {
     "data": {
      "image/png": "[encoded data removed]",
      "text/plain": [
       "<Figure size 1440x1440 with 2 Axes>"
      ]
     },
     "metadata": {
      "needs_background": "light"
     },
     "output_type": "display_data"
    }
   ],
   "source": [
    "#Analisis de matriz de correlación variables numéricas usando heatmap\n",
    "\n",
    "df_numeric = df[Col_numericas_analisis]\n",
    "\n",
    "fig = plt.figure(figsize=(20,20))\n",
    "ax = fig.add_axes()\n",
    "plt.xticks(rotation=45, ha='right')\n",
    "sns.heatmap(df_numeric.corr(), vmin=0.4, vmax=1, annot=True)\n"
   ]
  },
  {
   "cell_type": "code",
   "execution_count": 30,
   "metadata": {},
   "outputs": [
    {
     "data": {
      "text/html": [
       "<div>\n",
       "<style scoped>\n",
       "    .dataframe tbody tr th:only-of-type {\n",
       "        vertical-align: middle;\n",
       "    }\n",
       "\n",
       "    .dataframe tbody tr th {\n",
       "        vertical-align: top;\n",
       "    }\n",
       "\n",
       "    .dataframe thead th {\n",
       "        text-align: right;\n",
       "    }\n",
       "</style>\n",
       "<table border=\"1\" class=\"dataframe\">\n",
       "  <thead>\n",
       "    <tr style=\"text-align: right;\">\n",
       "      <th></th>\n",
       "      <th>Cantidad de pedido</th>\n",
       "      <th>Valor Unitario Pedido</th>\n",
       "      <th>Valor Total Pedido</th>\n",
       "      <th>Descuento Teaté</th>\n",
       "      <th>Valor Cupón Teaté</th>\n",
       "      <th>HoraMovil</th>\n",
       "      <th>Antiguedad Tienda</th>\n",
       "    </tr>\n",
       "  </thead>\n",
       "  <tbody>\n",
       "    <tr>\n",
       "      <th>Cantidad de pedido</th>\n",
       "      <td>1.000000</td>\n",
       "      <td>-0.333008</td>\n",
       "      <td>0.258805</td>\n",
       "      <td>0.126918</td>\n",
       "      <td>-0.109832</td>\n",
       "      <td>0.008931</td>\n",
       "      <td>-0.018061</td>\n",
       "    </tr>\n",
       "    <tr>\n",
       "      <th>Valor Unitario Pedido</th>\n",
       "      <td>-0.333008</td>\n",
       "      <td>1.000000</td>\n",
       "      <td>0.525126</td>\n",
       "      <td>0.529394</td>\n",
       "      <td>-0.030749</td>\n",
       "      <td>-0.041815</td>\n",
       "      <td>-0.035190</td>\n",
       "    </tr>\n",
       "    <tr>\n",
       "      <th>Valor Total Pedido</th>\n",
       "      <td>0.258805</td>\n",
       "      <td>0.525126</td>\n",
       "      <td>1.000000</td>\n",
       "      <td>0.758096</td>\n",
       "      <td>-0.173512</td>\n",
       "      <td>-0.022600</td>\n",
       "      <td>-0.052614</td>\n",
       "    </tr>\n",
       "    <tr>\n",
       "      <th>Descuento Teaté</th>\n",
       "      <td>0.126918</td>\n",
       "      <td>0.529394</td>\n",
       "      <td>0.758096</td>\n",
       "      <td>1.000000</td>\n",
       "      <td>-0.194414</td>\n",
       "      <td>-0.048934</td>\n",
       "      <td>-0.042503</td>\n",
       "    </tr>\n",
       "    <tr>\n",
       "      <th>Valor Cupón Teaté</th>\n",
       "      <td>-0.109832</td>\n",
       "      <td>-0.030749</td>\n",
       "      <td>-0.173512</td>\n",
       "      <td>-0.194414</td>\n",
       "      <td>1.000000</td>\n",
       "      <td>0.005073</td>\n",
       "      <td>0.024298</td>\n",
       "    </tr>\n",
       "    <tr>\n",
       "      <th>HoraMovil</th>\n",
       "      <td>0.008931</td>\n",
       "      <td>-0.041815</td>\n",
       "      <td>-0.022600</td>\n",
       "      <td>-0.048934</td>\n",
       "      <td>0.005073</td>\n",
       "      <td>1.000000</td>\n",
       "      <td>0.002986</td>\n",
       "    </tr>\n",
       "    <tr>\n",
       "      <th>Antiguedad Tienda</th>\n",
       "      <td>-0.018061</td>\n",
       "      <td>-0.035190</td>\n",
       "      <td>-0.052614</td>\n",
       "      <td>-0.042503</td>\n",
       "      <td>0.024298</td>\n",
       "      <td>0.002986</td>\n",
       "      <td>1.000000</td>\n",
       "    </tr>\n",
       "  </tbody>\n",
       "</table>\n",
       "</div>"
      ],
      "text/plain": [
       "                       Cantidad de pedido  Valor Unitario Pedido  \\\n",
       "Cantidad de pedido               1.000000              -0.333008   \n",
       "Valor Unitario Pedido           -0.333008               1.000000   \n",
       "Valor Total Pedido               0.258805               0.525126   \n",
       "Descuento Teaté                  0.126918               0.529394   \n",
       "Valor Cupón Teaté               -0.109832              -0.030749   \n",
       "HoraMovil                        0.008931              -0.041815   \n",
       "Antiguedad Tienda               -0.018061              -0.035190   \n",
       "\n",
       "                       Valor Total Pedido  Descuento Teaté  Valor Cupón Teaté  \\\n",
       "Cantidad de pedido               0.258805         0.126918          -0.109832   \n",
       "Valor Unitario Pedido            0.525126         0.529394          -0.030749   \n",
       "Valor Total Pedido               1.000000         0.758096          -0.173512   \n",
       "Descuento Teaté                  0.758096         1.000000          -0.194414   \n",
       "Valor Cupón Teaté               -0.173512        -0.194414           1.000000   \n",
       "HoraMovil                       -0.022600        -0.048934           0.005073   \n",
       "Antiguedad Tienda               -0.052614        -0.042503           0.024298   \n",
       "\n",
       "                       HoraMovil  Antiguedad Tienda  \n",
       "Cantidad de pedido      0.008931          -0.018061  \n",
       "Valor Unitario Pedido  -0.041815          -0.035190  \n",
       "Valor Total Pedido     -0.022600          -0.052614  \n",
       "Descuento Teaté        -0.048934          -0.042503  \n",
       "Valor Cupón Teaté       0.005073           0.024298  \n",
       "HoraMovil               1.000000           0.002986  \n",
       "Antiguedad Tienda       0.002986           1.000000  "
      ]
     },
     "execution_count": 30,
     "metadata": {},
     "output_type": "execute_result"
    }
   ],
   "source": [
    "df_numeric.corr()"
   ]
  },
  {
   "cell_type": "code",
   "execution_count": null,
   "metadata": {},
   "outputs": [],
   "source": [
    "df2 = pd.crosstab(df['Población'], df['Denominación Motivo Rechazo'])\n",
    "df3 = pd.crosstab(df['Barrio'], df['Denominación Motivo Rechazo'])\n",
    "df4 = pd.crosstab(df['MES'], df['Denominación Motivo Rechazo'])\n",
    "df5 = pd.crosstab(df['Nombre Fabricante'], df['Denominación Motivo Rechazo'])\n",
    "df6 = pd.crosstab(df['UM'], df['Denominación Motivo Rechazo'])\n",
    "df7 =pd.crosstab(df['Region'], df['Denominación Motivo Rechazo'])\n",
    "\n",
    "df8 = pd.crosstab(df['Población'], df['Segmento Antiguedad'])\n",
    "df9 = pd.crosstab(df['Barrio'], df['Segmento Antiguedad'])\n",
    "df10 = pd.crosstab(df['MES'], df['Segmento Antiguedad'])\n",
    "df11 = pd.crosstab(df['Nombre Fabricante'], df['Segmento Antiguedad'])\n",
    "df12 = pd.crosstab(df['UM'], df['Segmento Antiguedad'])\n",
    "df13 =pd.crosstab(df['Region'], df['Segmento Antiguedad'])\n",
    "\n",
    "df14 = pd.crosstab(df['Población'], df['Lealtad'])\n",
    "df15 = pd.crosstab(df['Barrio'], df['Lealtad'])\n",
    "df16 = pd.crosstab(df['MES'], df['Lealtad'])\n",
    "df17 = pd.crosstab(df['Nombre Fabricante'], df['Lealtad'])\n",
    "df18 = pd.crosstab(df['UM'], df['Lealtad'])\n",
    "df19 =pd.crosstab(df['Region'], df['Lealtad'])"
   ]
  },
  {
   "cell_type": "code",
   "execution_count": null,
   "metadata": {},
   "outputs": [],
   "source": [
    "#chi2_contingency(df2)"
   ]
  },
  {
   "cell_type": "code",
   "execution_count": null,
   "metadata": {},
   "outputs": [],
   "source": [
    "g, p, dof, expctd = chi2_contingency(df11)\n",
    "\n",
    "print('El valor del p-value es: ',p)\n",
    "\n",
    "if p<0.05:\n",
    "    print('Las variables son dependiente: Es decir si estan correlacionadas')\n",
    "else:\n",
    "    print('Las variables son independiente: Es decir no estan correlacionadas')"
   ]
  },
  {
   "cell_type": "code",
   "execution_count": null,
   "metadata": {},
   "outputs": [],
   "source": []
  }
 ],
 "metadata": {
  "kernelspec": {
   "display_name": "Python 3",
   "language": "python",
   "name": "python3"
  },
  "language_info": {
   "codemirror_mode": {
    "name": "ipython",
    "version": 3
   },
   "file_extension": ".py",
   "mimetype": "text/x-python",
   "name": "python",
   "nbconvert_exporter": "python",
   "pygments_lexer": "ipython3",
   "version": "3.7.6"
  }
 },
 "nbformat": 4,
 "nbformat_minor": 4
}
